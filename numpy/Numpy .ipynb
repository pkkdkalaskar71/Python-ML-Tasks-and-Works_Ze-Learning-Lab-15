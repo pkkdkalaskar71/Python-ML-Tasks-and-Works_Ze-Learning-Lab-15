{
 "cells": [
  {
   "cell_type": "markdown",
   "id": "41c48986",
   "metadata": {},
   "source": [
    "## What is Module in Python?\n",
    "The module is a simple Python file that contains collections of functions and global variables and with having a .py extension file. It is an executable file and to organize all the modules we have the concept called Package in Python. "
   ]
  },
  {
   "cell_type": "markdown",
   "id": "9e145684",
   "metadata": {},
   "source": [
    "ex:\n",
    "Datetime\n",
    "Regex\n",
    "Random "
   ]
  },
  {
   "cell_type": "markdown",
   "id": "9412658f",
   "metadata": {},
   "source": [
    "## What is Package in Python?\n",
    "The package is a simple directory having collections of modules. This directory contains Python modules and also having __init__.py file by which the interpreter interprets it as a Package."
   ]
  },
  {
   "cell_type": "code",
   "execution_count": null,
   "id": "7b389071",
   "metadata": {},
   "outputs": [],
   "source": []
  },
  {
   "cell_type": "markdown",
   "id": "b49354f6",
   "metadata": {},
   "source": [
    "## Numpy \n"
   ]
  },
  {
   "cell_type": "code",
   "execution_count": null,
   "id": "e582993c",
   "metadata": {},
   "outputs": [],
   "source": []
  },
  {
   "cell_type": "markdown",
   "id": "c2de4f06",
   "metadata": {},
   "source": [
    "What is numpy?\n",
    "\n",
    "NumPy (Numerical Python) is an open source Python library that’s used in almost every field of science and engineering.\n",
    "\n",
    "NumPy, which stands for Numerical Python, is a library consisting of multidimensional array objects"
   ]
  },
  {
   "cell_type": "code",
   "execution_count": null,
   "id": "d7969bef",
   "metadata": {},
   "outputs": [],
   "source": []
  },
  {
   "cell_type": "code",
   "execution_count": null,
   "id": "d13c6316",
   "metadata": {},
   "outputs": [],
   "source": []
  },
  {
   "cell_type": "markdown",
   "id": "dbaa6577",
   "metadata": {},
   "source": [
    "### Difference between a Python list and a NumPy array\n",
    "\n",
    "A Python list can contain different data types within a single list, ex : [2.1, '2','Hello', 4.0, 5, False]\n",
    "\n",
    "All of the elements in a NumPy array should be homogeneous, ex: [0 1 2 3 4 5], [2.3,4.5,1.0,3.3]"
   ]
  },
  {
   "cell_type": "code",
   "execution_count": 1,
   "id": "67f614d1",
   "metadata": {},
   "outputs": [
    {
     "data": {
      "text/plain": [
       "[2.1, '2', 'Hello', 4.0, 5, False, None]"
      ]
     },
     "execution_count": 1,
     "metadata": {},
     "output_type": "execute_result"
    }
   ],
   "source": [
    "[2.1, '2','Hello', 4.0, 5, False,None]"
   ]
  },
  {
   "cell_type": "code",
   "execution_count": 2,
   "id": "1d0b6a8d",
   "metadata": {},
   "outputs": [
    {
     "data": {
      "text/plain": [
       "NoneType"
      ]
     },
     "execution_count": 2,
     "metadata": {},
     "output_type": "execute_result"
    }
   ],
   "source": [
    "a = None\n",
    "type(a)"
   ]
  },
  {
   "cell_type": "code",
   "execution_count": 3,
   "id": "561dfb90",
   "metadata": {},
   "outputs": [
    {
     "data": {
      "text/plain": [
       "str"
      ]
     },
     "execution_count": 3,
     "metadata": {},
     "output_type": "execute_result"
    }
   ],
   "source": [
    "b =''\n",
    "type(b)"
   ]
  },
  {
   "cell_type": "code",
   "execution_count": 4,
   "id": "8ae023ba",
   "metadata": {},
   "outputs": [
    {
     "data": {
      "text/plain": [
       "int"
      ]
     },
     "execution_count": 4,
     "metadata": {},
     "output_type": "execute_result"
    }
   ],
   "source": [
    "type(23)"
   ]
  },
  {
   "cell_type": "code",
   "execution_count": 6,
   "id": "61621113",
   "metadata": {},
   "outputs": [
    {
     "data": {
      "text/plain": [
       "0.0"
      ]
     },
     "execution_count": 6,
     "metadata": {},
     "output_type": "execute_result"
    }
   ],
   "source": [
    "float(0)"
   ]
  },
  {
   "cell_type": "code",
   "execution_count": null,
   "id": "746c1b55-1837-4331-9df1-43b3339b02af",
   "metadata": {},
   "outputs": [],
   "source": []
  },
  {
   "cell_type": "code",
   "execution_count": null,
   "id": "2a83d0a1-29bc-48c5-9784-fd7619a68f73",
   "metadata": {},
   "outputs": [],
   "source": [
    "print()"
   ]
  },
  {
   "cell_type": "code",
   "execution_count": null,
   "id": "422ed7b5-d9fa-4d80-9ae0-0d4faf72b10e",
   "metadata": {},
   "outputs": [],
   "source": [
    "# datatyp : string, int , float\n",
    "# nonprimitive datatype :  {}, {2,3}, [], ()"
   ]
  },
  {
   "cell_type": "code",
   "execution_count": 10,
   "id": "a399f9f5",
   "metadata": {},
   "outputs": [
    {
     "data": {
      "text/plain": [
       "'LIKE'"
      ]
     },
     "execution_count": 10,
     "metadata": {},
     "output_type": "execute_result"
    }
   ],
   "source": [
    "aa  = 'like'\n",
    "aa.upper()"
   ]
  },
  {
   "cell_type": "code",
   "execution_count": 13,
   "id": "a9b51b97-bf38-484d-9b9b-6cd997c3852f",
   "metadata": {},
   "outputs": [],
   "source": [
    "r = [ 1,2, 5]\n",
    "r.append('apple')"
   ]
  },
  {
   "cell_type": "code",
   "execution_count": 14,
   "id": "c62f95bc-c2e6-463d-8a58-e352a967b6b2",
   "metadata": {},
   "outputs": [
    {
     "data": {
      "text/plain": [
       "[1, 2, 5, 'apple']"
      ]
     },
     "execution_count": 14,
     "metadata": {},
     "output_type": "execute_result"
    }
   ],
   "source": [
    "r"
   ]
  },
  {
   "cell_type": "code",
   "execution_count": 15,
   "id": "a5a93d8d-50e4-4138-af95-03ff51a1f483",
   "metadata": {},
   "outputs": [],
   "source": [
    "r.append(aa)"
   ]
  },
  {
   "cell_type": "code",
   "execution_count": 16,
   "id": "b1906ae3-aa16-461d-b76b-a0124cbb1d69",
   "metadata": {},
   "outputs": [
    {
     "data": {
      "text/plain": [
       "[1, 2, 5, 'apple', 'like']"
      ]
     },
     "execution_count": 16,
     "metadata": {},
     "output_type": "execute_result"
    }
   ],
   "source": [
    "r"
   ]
  },
  {
   "cell_type": "code",
   "execution_count": null,
   "id": "15cb0468-c915-47b8-91eb-55046f6583d3",
   "metadata": {},
   "outputs": [],
   "source": []
  },
  {
   "cell_type": "code",
   "execution_count": 7,
   "id": "c6f3b04e-7a93-46f2-a8a6-f72834a919fb",
   "metadata": {},
   "outputs": [
    {
     "data": {
      "text/plain": [
       "[2.1, '2', 'Hello', 4.0, 5, False, None]"
      ]
     },
     "execution_count": 7,
     "metadata": {},
     "output_type": "execute_result"
    }
   ],
   "source": [
    "[2.1, '2','Hello', 4.0, 5, False,None]"
   ]
  },
  {
   "cell_type": "code",
   "execution_count": null,
   "id": "ed09674a",
   "metadata": {},
   "outputs": [],
   "source": [
    "# pip install numpy"
   ]
  },
  {
   "cell_type": "code",
   "execution_count": 17,
   "id": "91cbcb84",
   "metadata": {},
   "outputs": [],
   "source": [
    "import numpy"
   ]
  },
  {
   "cell_type": "code",
   "execution_count": 18,
   "id": "a88be23f",
   "metadata": {
    "collapsed": true,
    "jupyter": {
     "outputs_hidden": true
    },
    "scrolled": true
   },
   "outputs": [
    {
     "name": "stdout",
     "output_type": "stream",
     "text": [
      "['ALLOW_THREADS', 'BUFSIZE', 'CLIP', 'DataSource', 'ERR_CALL', 'ERR_DEFAULT', 'ERR_IGNORE', 'ERR_LOG', 'ERR_PRINT', 'ERR_RAISE', 'ERR_WARN', 'FLOATING_POINT_SUPPORT', 'FPE_DIVIDEBYZERO', 'FPE_INVALID', 'FPE_OVERFLOW', 'FPE_UNDERFLOW', 'False_', 'Inf', 'Infinity', 'MAXDIMS', 'MAY_SHARE_BOUNDS', 'MAY_SHARE_EXACT', 'NAN', 'NINF', 'NZERO', 'NaN', 'PINF', 'PZERO', 'RAISE', 'RankWarning', 'SHIFT_DIVIDEBYZERO', 'SHIFT_INVALID', 'SHIFT_OVERFLOW', 'SHIFT_UNDERFLOW', 'ScalarType', 'True_', 'UFUNC_BUFSIZE_DEFAULT', 'UFUNC_PYVALS_NAME', 'WRAP', '_CopyMode', '_NoValue', '_UFUNC_API', '__NUMPY_SETUP__', '__all__', '__builtins__', '__cached__', '__config__', '__deprecated_attrs__', '__dir__', '__doc__', '__expired_functions__', '__file__', '__former_attrs__', '__future_scalars__', '__getattr__', '__loader__', '__name__', '__package__', '__path__', '__spec__', '__version__', '_add_newdoc_ufunc', '_builtins', '_distributor_init', '_financial_names', '_get_promotion_state', '_globals', '_int_extended_msg', '_mat', '_no_nep50_warning', '_pyinstaller_hooks_dir', '_pytesttester', '_set_promotion_state', '_specific_msg', '_typing', '_using_numpy2_behavior', '_utils', 'abs', 'absolute', 'add', 'add_docstring', 'add_newdoc', 'add_newdoc_ufunc', 'all', 'allclose', 'alltrue', 'amax', 'amin', 'angle', 'any', 'append', 'apply_along_axis', 'apply_over_axes', 'arange', 'arccos', 'arccosh', 'arcsin', 'arcsinh', 'arctan', 'arctan2', 'arctanh', 'argmax', 'argmin', 'argpartition', 'argsort', 'argwhere', 'around', 'array', 'array2string', 'array_equal', 'array_equiv', 'array_repr', 'array_split', 'array_str', 'asanyarray', 'asarray', 'asarray_chkfinite', 'ascontiguousarray', 'asfarray', 'asfortranarray', 'asmatrix', 'atleast_1d', 'atleast_2d', 'atleast_3d', 'average', 'bartlett', 'base_repr', 'binary_repr', 'bincount', 'bitwise_and', 'bitwise_not', 'bitwise_or', 'bitwise_xor', 'blackman', 'block', 'bmat', 'bool_', 'broadcast', 'broadcast_arrays', 'broadcast_shapes', 'broadcast_to', 'busday_count', 'busday_offset', 'busdaycalendar', 'byte', 'byte_bounds', 'bytes_', 'c_', 'can_cast', 'cast', 'cbrt', 'cdouble', 'ceil', 'cfloat', 'char', 'character', 'chararray', 'choose', 'clip', 'clongdouble', 'clongfloat', 'column_stack', 'common_type', 'compare_chararrays', 'compat', 'complex128', 'complex64', 'complex_', 'complexfloating', 'compress', 'concatenate', 'conj', 'conjugate', 'convolve', 'copy', 'copysign', 'copyto', 'corrcoef', 'correlate', 'cos', 'cosh', 'count_nonzero', 'cov', 'cross', 'csingle', 'ctypeslib', 'cumprod', 'cumproduct', 'cumsum', 'datetime64', 'datetime_as_string', 'datetime_data', 'deg2rad', 'degrees', 'delete', 'deprecate', 'deprecate_with_doc', 'diag', 'diag_indices', 'diag_indices_from', 'diagflat', 'diagonal', 'diff', 'digitize', 'disp', 'divide', 'divmod', 'dot', 'double', 'dsplit', 'dstack', 'dtype', 'dtypes', 'e', 'ediff1d', 'einsum', 'einsum_path', 'emath', 'empty', 'empty_like', 'equal', 'errstate', 'euler_gamma', 'exceptions', 'exp', 'exp2', 'expand_dims', 'expm1', 'extract', 'eye', 'fabs', 'fastCopyAndTranspose', 'fft', 'fill_diagonal', 'find_common_type', 'finfo', 'fix', 'flatiter', 'flatnonzero', 'flexible', 'flip', 'fliplr', 'flipud', 'float16', 'float32', 'float64', 'float_', 'float_power', 'floating', 'floor', 'floor_divide', 'fmax', 'fmin', 'fmod', 'format_float_positional', 'format_float_scientific', 'format_parser', 'frexp', 'from_dlpack', 'frombuffer', 'fromfile', 'fromfunction', 'fromiter', 'frompyfunc', 'fromregex', 'fromstring', 'full', 'full_like', 'gcd', 'generic', 'genfromtxt', 'geomspace', 'get_array_wrap', 'get_include', 'get_printoptions', 'getbufsize', 'geterr', 'geterrcall', 'geterrobj', 'gradient', 'greater', 'greater_equal', 'half', 'hamming', 'hanning', 'heaviside', 'histogram', 'histogram2d', 'histogram_bin_edges', 'histogramdd', 'hsplit', 'hstack', 'hypot', 'i0', 'identity', 'iinfo', 'imag', 'in1d', 'index_exp', 'indices', 'inexact', 'inf', 'info', 'infty', 'inner', 'insert', 'int16', 'int32', 'int64', 'int8', 'int_', 'intc', 'integer', 'interp', 'intersect1d', 'intp', 'invert', 'is_busday', 'isclose', 'iscomplex', 'iscomplexobj', 'isfinite', 'isfortran', 'isin', 'isinf', 'isnan', 'isnat', 'isneginf', 'isposinf', 'isreal', 'isrealobj', 'isscalar', 'issctype', 'issubclass_', 'issubdtype', 'issubsctype', 'iterable', 'ix_', 'kaiser', 'kron', 'lcm', 'ldexp', 'left_shift', 'less', 'less_equal', 'lexsort', 'lib', 'linalg', 'linspace', 'little_endian', 'load', 'loadtxt', 'log', 'log10', 'log1p', 'log2', 'logaddexp', 'logaddexp2', 'logical_and', 'logical_not', 'logical_or', 'logical_xor', 'logspace', 'longcomplex', 'longdouble', 'longfloat', 'longlong', 'lookfor', 'ma', 'mask_indices', 'mat', 'matmul', 'matrix', 'max', 'maximum', 'maximum_sctype', 'may_share_memory', 'mean', 'median', 'memmap', 'meshgrid', 'mgrid', 'min', 'min_scalar_type', 'minimum', 'mintypecode', 'mod', 'modf', 'moveaxis', 'msort', 'multiply', 'nan', 'nan_to_num', 'nanargmax', 'nanargmin', 'nancumprod', 'nancumsum', 'nanmax', 'nanmean', 'nanmedian', 'nanmin', 'nanpercentile', 'nanprod', 'nanquantile', 'nanstd', 'nansum', 'nanvar', 'nbytes', 'ndarray', 'ndenumerate', 'ndim', 'ndindex', 'nditer', 'negative', 'nested_iters', 'newaxis', 'nextafter', 'nonzero', 'not_equal', 'numarray', 'number', 'obj2sctype', 'object_', 'ogrid', 'oldnumeric', 'ones', 'ones_like', 'outer', 'packbits', 'pad', 'partition', 'percentile', 'pi', 'piecewise', 'place', 'poly', 'poly1d', 'polyadd', 'polyder', 'polydiv', 'polyfit', 'polyint', 'polymul', 'polynomial', 'polysub', 'polyval', 'positive', 'power', 'printoptions', 'prod', 'product', 'promote_types', 'ptp', 'put', 'put_along_axis', 'putmask', 'quantile', 'r_', 'rad2deg', 'radians', 'random', 'ravel', 'ravel_multi_index', 'real', 'real_if_close', 'rec', 'recarray', 'recfromcsv', 'recfromtxt', 'reciprocal', 'record', 'remainder', 'repeat', 'require', 'reshape', 'resize', 'result_type', 'right_shift', 'rint', 'roll', 'rollaxis', 'roots', 'rot90', 'round', 'round_', 'row_stack', 's_', 'safe_eval', 'save', 'savetxt', 'savez', 'savez_compressed', 'sctype2char', 'sctypeDict', 'sctypes', 'searchsorted', 'select', 'set_numeric_ops', 'set_printoptions', 'set_string_function', 'setbufsize', 'setdiff1d', 'seterr', 'seterrcall', 'seterrobj', 'setxor1d', 'shape', 'shares_memory', 'short', 'show_config', 'show_runtime', 'sign', 'signbit', 'signedinteger', 'sin', 'sinc', 'single', 'singlecomplex', 'sinh', 'size', 'sometrue', 'sort', 'sort_complex', 'source', 'spacing', 'split', 'sqrt', 'square', 'squeeze', 'stack', 'std', 'str_', 'string_', 'subtract', 'sum', 'swapaxes', 'take', 'take_along_axis', 'tan', 'tanh', 'tensordot', 'test', 'testing', 'tile', 'timedelta64', 'trace', 'tracemalloc_domain', 'transpose', 'trapz', 'tri', 'tril', 'tril_indices', 'tril_indices_from', 'trim_zeros', 'triu', 'triu_indices', 'triu_indices_from', 'true_divide', 'trunc', 'typecodes', 'typename', 'ubyte', 'ufunc', 'uint', 'uint16', 'uint32', 'uint64', 'uint8', 'uintc', 'uintp', 'ulonglong', 'unicode_', 'union1d', 'unique', 'unpackbits', 'unravel_index', 'unsignedinteger', 'unwrap', 'ushort', 'vander', 'var', 'vdot', 'vectorize', 'version', 'void', 'vsplit', 'vstack', 'where', 'who', 'zeros', 'zeros_like']\n"
     ]
    }
   ],
   "source": [
    "print(dir(numpy))"
   ]
  },
  {
   "cell_type": "code",
   "execution_count": 19,
   "id": "50d4e912",
   "metadata": {},
   "outputs": [
    {
     "data": {
      "text/plain": [
       "[12.5, 5, '8', True, 'apple']"
      ]
     },
     "execution_count": 19,
     "metadata": {},
     "output_type": "execute_result"
    }
   ],
   "source": [
    "[12.5, 5, '8',True,'apple']"
   ]
  },
  {
   "cell_type": "code",
   "execution_count": 23,
   "id": "d3fda5d7-0177-4af8-9381-9d0327bc1dac",
   "metadata": {},
   "outputs": [
    {
     "data": {
      "text/plain": [
       "array(['a', '2', '45'], dtype='<U2')"
      ]
     },
     "execution_count": 23,
     "metadata": {},
     "output_type": "execute_result"
    }
   ],
   "source": [
    "numpy.array(['a','2','45'])"
   ]
  },
  {
   "cell_type": "code",
   "execution_count": 20,
   "id": "4bd4a772",
   "metadata": {},
   "outputs": [
    {
     "data": {
      "text/plain": [
       "array(['12.5', '5', '8', 'True', 'apple'], dtype='<U32')"
      ]
     },
     "execution_count": 20,
     "metadata": {},
     "output_type": "execute_result"
    }
   ],
   "source": [
    "numpy.array([12.5, 5, '8',True,'apple'])"
   ]
  },
  {
   "cell_type": "code",
   "execution_count": 21,
   "id": "40a44dcc-ebed-41c4-9f40-719fc61fc703",
   "metadata": {},
   "outputs": [
    {
     "data": {
      "text/plain": [
       "array([12.5,  5. ,  1. ])"
      ]
     },
     "execution_count": 21,
     "metadata": {},
     "output_type": "execute_result"
    }
   ],
   "source": [
    "numpy.array([12.5, 5, True])"
   ]
  },
  {
   "cell_type": "code",
   "execution_count": 22,
   "id": "f6da5d11-240e-4ac2-a7fa-a5ff4dd38bb0",
   "metadata": {},
   "outputs": [
    {
     "data": {
      "text/plain": [
       "array([1, 2, 3, 4, 5])"
      ]
     },
     "execution_count": 22,
     "metadata": {},
     "output_type": "execute_result"
    }
   ],
   "source": [
    "numpy.array([1,2,3,4,5])\n"
   ]
  },
  {
   "cell_type": "code",
   "execution_count": 25,
   "id": "b42d7ec0",
   "metadata": {},
   "outputs": [
    {
     "name": "stdout",
     "output_type": "stream",
     "text": [
      "[125   8   1]\n"
     ]
    },
    {
     "data": {
      "text/plain": [
       "dtype('int32')"
      ]
     },
     "execution_count": 25,
     "metadata": {},
     "output_type": "execute_result"
    }
   ],
   "source": [
    "s1 =  numpy.array([125, 8,True])\n",
    "print(s1)\n",
    "s1.dtype"
   ]
  },
  {
   "cell_type": "code",
   "execution_count": 26,
   "id": "ff2e00d1",
   "metadata": {},
   "outputs": [
    {
     "data": {
      "text/plain": [
       "array([125,   8,   1])"
      ]
     },
     "execution_count": 26,
     "metadata": {},
     "output_type": "execute_result"
    }
   ],
   "source": [
    "s1"
   ]
  },
  {
   "cell_type": "code",
   "execution_count": 27,
   "id": "559e32ca",
   "metadata": {},
   "outputs": [
    {
     "data": {
      "text/plain": [
       "numpy.ndarray"
      ]
     },
     "execution_count": 27,
     "metadata": {},
     "output_type": "execute_result"
    }
   ],
   "source": [
    "type(s1)"
   ]
  },
  {
   "cell_type": "code",
   "execution_count": 28,
   "id": "390ee517",
   "metadata": {},
   "outputs": [
    {
     "name": "stdout",
     "output_type": "stream",
     "text": [
      "['12' '0.5' '8.8' 'False' '3']\n"
     ]
    }
   ],
   "source": [
    "# False = 0 and True =  1\n",
    "# Creating an array object\n",
    "\n",
    "arr = numpy.array([12, 0.5, 8.8, False,'3' ])\n",
    "\n",
    "# Printing type of elements in array\n",
    "print( arr)\n"
   ]
  },
  {
   "cell_type": "code",
   "execution_count": 29,
   "id": "d1ba844e",
   "metadata": {},
   "outputs": [],
   "source": [
    "import numpy as np"
   ]
  },
  {
   "cell_type": "code",
   "execution_count": 30,
   "id": "ac6b8922",
   "metadata": {},
   "outputs": [
    {
     "data": {
      "text/plain": [
       "array(['2', '9', '10', 'apple'], dtype='<U11')"
      ]
     },
     "execution_count": 30,
     "metadata": {},
     "output_type": "execute_result"
    }
   ],
   "source": [
    "np.array(['2',9,10,'apple'])"
   ]
  },
  {
   "cell_type": "code",
   "execution_count": 33,
   "id": "e247c4d6",
   "metadata": {},
   "outputs": [
    {
     "name": "stdout",
     "output_type": "stream",
     "text": [
      "['12' 'False' '5.5' '8.8' 'False']\n"
     ]
    }
   ],
   "source": [
    "# Creating an array object\n",
    "arr = np.array([12,'False', 5.5, 8.8,False])\n",
    "print( arr)"
   ]
  },
  {
   "cell_type": "code",
   "execution_count": 34,
   "id": "00d36c05",
   "metadata": {},
   "outputs": [
    {
     "data": {
      "text/plain": [
       "array(['12', 'False', '5.5', '8.8'], dtype='<U32')"
      ]
     },
     "execution_count": 34,
     "metadata": {},
     "output_type": "execute_result"
    }
   ],
   "source": [
    "d = [12,'False', 5.5, 8.8]\n",
    "s11 = np.array(d)\n",
    "s11"
   ]
  },
  {
   "cell_type": "code",
   "execution_count": 35,
   "id": "6a30f823",
   "metadata": {},
   "outputs": [
    {
     "data": {
      "text/plain": [
       "numpy.ndarray"
      ]
     },
     "execution_count": 35,
     "metadata": {},
     "output_type": "execute_result"
    }
   ],
   "source": [
    "# Printing type of elements in array\n",
    "type(s11)"
   ]
  },
  {
   "cell_type": "code",
   "execution_count": 41,
   "id": "5c0272db",
   "metadata": {},
   "outputs": [
    {
     "data": {
      "text/plain": [
       "[12, 'False', 5.5, 8.8]"
      ]
     },
     "execution_count": 41,
     "metadata": {},
     "output_type": "execute_result"
    }
   ],
   "source": [
    "s = [12,'False', 5.5, 8.8]\n",
    "s"
   ]
  },
  {
   "cell_type": "code",
   "execution_count": 40,
   "id": "3185e827",
   "metadata": {},
   "outputs": [],
   "source": [
    "# print(dir(s11))"
   ]
  },
  {
   "cell_type": "code",
   "execution_count": 39,
   "id": "7ac5e8b3",
   "metadata": {},
   "outputs": [],
   "source": [
    "# print(dir(np))"
   ]
  },
  {
   "cell_type": "code",
   "execution_count": null,
   "id": "77894f62",
   "metadata": {},
   "outputs": [],
   "source": [
    "# print(len(dir(np)))"
   ]
  },
  {
   "cell_type": "code",
   "execution_count": 45,
   "id": "405d8504",
   "metadata": {},
   "outputs": [
    {
     "data": {
      "text/plain": [
       "1"
      ]
     },
     "execution_count": 45,
     "metadata": {},
     "output_type": "execute_result"
    }
   ],
   "source": [
    "np.array([1,2,3,4]).ndim"
   ]
  },
  {
   "cell_type": "code",
   "execution_count": 46,
   "id": "5f9f0c8f-6989-41f4-903b-cd44edb8b2d5",
   "metadata": {},
   "outputs": [
    {
     "data": {
      "text/plain": [
       "40"
      ]
     },
     "execution_count": 46,
     "metadata": {},
     "output_type": "execute_result"
    }
   ],
   "source": [
    "s = np.array([10,20,30,40])\n",
    "s[3]"
   ]
  },
  {
   "attachments": {
    "image.png": {
     "image/png": "[encoded data removed]"
    }
   },
   "cell_type": "markdown",
   "id": "b37e9b39",
   "metadata": {},
   "source": [
    "![image.png](attachment:image.png)"
   ]
  },
  {
   "cell_type": "markdown",
   "id": "82e7c10b",
   "metadata": {},
   "source": [
    "multidimension"
   ]
  },
  {
   "attachments": {
    "image.png": {
     "image/png": "[encoded data removed]"
    }
   },
   "cell_type": "markdown",
   "id": "0135b5ce",
   "metadata": {},
   "source": [
    "![image.png](attachment:image.png)"
   ]
  },
  {
   "cell_type": "code",
   "execution_count": null,
   "id": "9f2b0f29",
   "metadata": {},
   "outputs": [],
   "source": []
  },
  {
   "attachments": {
    "image.png": {
     "image/png": "[encoded data removed]"
    }
   },
   "cell_type": "markdown",
   "id": "4d94428d",
   "metadata": {},
   "source": [
    "![image.png](attachment:image.png)"
   ]
  },
  {
   "cell_type": "markdown",
   "id": "e2f800d8",
   "metadata": {},
   "source": [
    "### 1d array"
   ]
  },
  {
   "cell_type": "code",
   "execution_count": 47,
   "id": "b16e6f85",
   "metadata": {},
   "outputs": [
    {
     "data": {
      "text/plain": [
       "array([1, 2, 3, 4])"
      ]
     },
     "execution_count": 47,
     "metadata": {},
     "output_type": "execute_result"
    }
   ],
   "source": [
    "## create a numpy\n",
    "\n",
    "\n",
    "a = [1,2,3,4]\n",
    "arr = np.array(a)\n",
    "arr"
   ]
  },
  {
   "cell_type": "code",
   "execution_count": 48,
   "id": "12754c28",
   "metadata": {},
   "outputs": [
    {
     "data": {
      "text/plain": [
       "dtype('int32')"
      ]
     },
     "execution_count": 48,
     "metadata": {},
     "output_type": "execute_result"
    }
   ],
   "source": [
    "arr.dtype"
   ]
  },
  {
   "cell_type": "code",
   "execution_count": 50,
   "id": "269eb964",
   "metadata": {},
   "outputs": [
    {
     "data": {
      "text/plain": [
       "array([1.9, 2. , 3. , 4. ])"
      ]
     },
     "execution_count": 50,
     "metadata": {},
     "output_type": "execute_result"
    }
   ],
   "source": [
    "\n",
    "arr = np.array([1.9,2,3,4])\n",
    "arr.dtype\n",
    "arr"
   ]
  },
  {
   "cell_type": "code",
   "execution_count": 53,
   "id": "02afaa8c",
   "metadata": {},
   "outputs": [
    {
     "data": {
      "text/plain": [
       "1"
      ]
     },
     "execution_count": 53,
     "metadata": {},
     "output_type": "execute_result"
    }
   ],
   "source": [
    "\n",
    "arr = np.array((1.9,'2',3,4))\n",
    "arr.dtype\n",
    "arr.ndim\n"
   ]
  },
  {
   "cell_type": "code",
   "execution_count": 54,
   "id": "c7c6e73b",
   "metadata": {},
   "outputs": [
    {
     "data": {
      "text/plain": [
       "range(0, 5)"
      ]
     },
     "execution_count": 54,
     "metadata": {},
     "output_type": "execute_result"
    }
   ],
   "source": [
    "range(5)"
   ]
  },
  {
   "cell_type": "code",
   "execution_count": 60,
   "id": "d2aa3b14-745c-4bb6-a4eb-0bf993cc0ad7",
   "metadata": {},
   "outputs": [
    {
     "name": "stdout",
     "output_type": "stream",
     "text": [
      "0 1 2 3 4 "
     ]
    }
   ],
   "source": [
    "for i in range(5):\n",
    "    print(i,end= ' ')"
   ]
  },
  {
   "cell_type": "code",
   "execution_count": 65,
   "id": "94761b56-e14b-41df-a100-81ce2c671676",
   "metadata": {},
   "outputs": [
    {
     "data": {
      "text/plain": [
       "[78, 7]"
      ]
     },
     "execution_count": 65,
     "metadata": {},
     "output_type": "execute_result"
    }
   ],
   "source": [
    "r = []\n",
    "r.append(78)\n",
    "r.append(7)\n",
    "r"
   ]
  },
  {
   "cell_type": "code",
   "execution_count": 66,
   "id": "e1dc5da6",
   "metadata": {},
   "outputs": [
    {
     "data": {
      "text/plain": [
       "[0, 1, 2, 3, 4, 5, 6, 7, 8, 9]"
      ]
     },
     "execution_count": 66,
     "metadata": {},
     "output_type": "execute_result"
    }
   ],
   "source": [
    "d = []\n",
    "for i in range(10):\n",
    "    d.append(i)\n",
    "d"
   ]
  },
  {
   "cell_type": "code",
   "execution_count": null,
   "id": "eb918c5a",
   "metadata": {},
   "outputs": [],
   "source": [
    "np.array(d)"
   ]
  },
  {
   "cell_type": "code",
   "execution_count": 68,
   "id": "730034eb",
   "metadata": {},
   "outputs": [
    {
     "data": {
      "text/plain": [
       "array([0, 1, 2, 3, 4, 5, 6, 7, 8, 9])"
      ]
     },
     "execution_count": 68,
     "metadata": {},
     "output_type": "execute_result"
    }
   ],
   "source": [
    "a = np.arange(10)\n",
    "a\n",
    "# list(a)"
   ]
  },
  {
   "cell_type": "code",
   "execution_count": 71,
   "id": "c3015b46",
   "metadata": {},
   "outputs": [
    {
     "data": {
      "text/plain": [
       "array([ 0,  5, 10, 15, 20, 25])"
      ]
     },
     "execution_count": 71,
     "metadata": {},
     "output_type": "execute_result"
    }
   ],
   "source": [
    "np.arange(0,30,5)"
   ]
  },
  {
   "cell_type": "code",
   "execution_count": 76,
   "id": "b1882991",
   "metadata": {},
   "outputs": [
    {
     "data": {
      "text/plain": [
       "[11, 20, 33, 400.9, 23]"
      ]
     },
     "execution_count": 76,
     "metadata": {},
     "output_type": "execute_result"
    }
   ],
   "source": [
    "a  =  [11,20,33,400.9,23]\n",
    "a"
   ]
  },
  {
   "cell_type": "code",
   "execution_count": 77,
   "id": "72440c08",
   "metadata": {},
   "outputs": [],
   "source": [
    "arr = np.array(a) "
   ]
  },
  {
   "cell_type": "code",
   "execution_count": 78,
   "id": "19e018c3",
   "metadata": {},
   "outputs": [
    {
     "data": {
      "text/plain": [
       "dtype('float64')"
      ]
     },
     "execution_count": 78,
     "metadata": {},
     "output_type": "execute_result"
    }
   ],
   "source": [
    "arr.dtype"
   ]
  },
  {
   "cell_type": "code",
   "execution_count": 79,
   "id": "763e1726-1422-4c23-a021-aa753ceae180",
   "metadata": {},
   "outputs": [
    {
     "data": {
      "text/plain": [
       "array([ 11. ,  20. ,  33. , 400.9,  23. ])"
      ]
     },
     "execution_count": 79,
     "metadata": {},
     "output_type": "execute_result"
    }
   ],
   "source": [
    "arr"
   ]
  },
  {
   "cell_type": "code",
   "execution_count": 80,
   "id": "4a07412f",
   "metadata": {},
   "outputs": [
    {
     "data": {
      "text/plain": [
       "1"
      ]
     },
     "execution_count": 80,
     "metadata": {},
     "output_type": "execute_result"
    }
   ],
   "source": [
    "arr.ndim"
   ]
  },
  {
   "cell_type": "code",
   "execution_count": 81,
   "id": "6d2c1412",
   "metadata": {},
   "outputs": [
    {
     "data": {
      "text/plain": [
       "5"
      ]
     },
     "execution_count": 81,
     "metadata": {},
     "output_type": "execute_result"
    }
   ],
   "source": [
    "arr.size"
   ]
  },
  {
   "cell_type": "code",
   "execution_count": 82,
   "id": "0d33b571",
   "metadata": {},
   "outputs": [
    {
     "data": {
      "text/plain": [
       "(5,)"
      ]
     },
     "execution_count": 82,
     "metadata": {},
     "output_type": "execute_result"
    }
   ],
   "source": [
    "arr.shape\n"
   ]
  },
  {
   "cell_type": "markdown",
   "id": "bedae70a",
   "metadata": {},
   "source": [
    "### 2D array"
   ]
  },
  {
   "cell_type": "code",
   "execution_count": 90,
   "id": "b339a39e-40e3-4ec1-ad8f-813bd099f3ee",
   "metadata": {},
   "outputs": [
    {
     "data": {
      "text/plain": [
       "(1, 4)"
      ]
     },
     "execution_count": 90,
     "metadata": {},
     "output_type": "execute_result"
    }
   ],
   "source": [
    "np.array([[1,2,3,45]]).shape"
   ]
  },
  {
   "cell_type": "code",
   "execution_count": 92,
   "id": "55e798fa",
   "metadata": {},
   "outputs": [
    {
     "data": {
      "text/plain": [
       "(2, 5)"
      ]
     },
     "execution_count": 92,
     "metadata": {},
     "output_type": "execute_result"
    }
   ],
   "source": [
    "np.array([[11,20,33,400,23],[21,34,56,24,34]]).shape"
   ]
  },
  {
   "cell_type": "code",
   "execution_count": 93,
   "id": "0d977c27",
   "metadata": {},
   "outputs": [
    {
     "name": "stdout",
     "output_type": "stream",
     "text": [
      "2\n",
      "(4, 5)\n",
      "20\n"
     ]
    },
    {
     "data": {
      "text/plain": [
       "array([[ 11,  20,  33, 400,  23],\n",
       "       [ 21,  34,  56,  24,  34],\n",
       "       [ 11,  20,  33, 400,  23],\n",
       "       [ 21,  34,  56,  24,  34]])"
      ]
     },
     "execution_count": 93,
     "metadata": {},
     "output_type": "execute_result"
    }
   ],
   "source": [
    "arr = np.array(\n",
    "    [\n",
    "    [11,20,33,400,23],\n",
    "    [21,34,56,24,34],\n",
    "    [11,20,33,400,23],\n",
    "    [21,34,56,24,34]\n",
    "    ]\n",
    ")\n",
    "print(arr.ndim)\n",
    "print(arr.shape)\n",
    "print(arr.size)\n",
    "arr"
   ]
  },
  {
   "cell_type": "code",
   "execution_count": 96,
   "id": "b8b239a3-b8f7-4482-ba1a-6428980fee8d",
   "metadata": {},
   "outputs": [
    {
     "data": {
      "text/plain": [
       "array([11, 20, 33, 30, 23])"
      ]
     },
     "execution_count": 96,
     "metadata": {},
     "output_type": "execute_result"
    }
   ],
   "source": [
    "f = np.array([ 11,  20,  33, 400,  23])\n",
    "f[3] = 30\n",
    "f"
   ]
  },
  {
   "cell_type": "code",
   "execution_count": 100,
   "id": "4081daaf-0428-4e87-b113-ecd39e904f05",
   "metadata": {},
   "outputs": [
    {
     "data": {
      "text/plain": [
       "20"
      ]
     },
     "execution_count": 100,
     "metadata": {},
     "output_type": "execute_result"
    }
   ],
   "source": [
    "f = np.array([[ 11,  20,  33, 400,  23]])\n",
    "f[0][1]\n"
   ]
  },
  {
   "cell_type": "code",
   "execution_count": 105,
   "id": "1c1ab184-3b32-43ef-9378-6f210c700022",
   "metadata": {},
   "outputs": [
    {
     "data": {
      "text/plain": [
       "array([[  11,   20,   33,  400,   23],\n",
       "       [  21,   34,   56,   24,   34],\n",
       "       [ 111,  201,  331, 4001,  123],\n",
       "       [ 211,  341,  561,  241,  134]])"
      ]
     },
     "execution_count": 105,
     "metadata": {},
     "output_type": "execute_result"
    }
   ],
   "source": [
    "arr = np.array(\n",
    "    [\n",
    "    [11,20,33,400,23],\n",
    "    [21,34,56,24,34],\n",
    "    [111,201,331,4001,123],\n",
    "    [211,341,561,241,134]\n",
    "    ]\n",
    ")\n",
    "arr"
   ]
  },
  {
   "cell_type": "code",
   "execution_count": 110,
   "id": "5c45f33f",
   "metadata": {},
   "outputs": [
    {
     "data": {
      "text/plain": [
       "123"
      ]
     },
     "execution_count": 110,
     "metadata": {},
     "output_type": "execute_result"
    }
   ],
   "source": [
    "arr[2][4]"
   ]
  },
  {
   "cell_type": "code",
   "execution_count": null,
   "id": "f622420c",
   "metadata": {},
   "outputs": [],
   "source": [
    "arr"
   ]
  },
  {
   "cell_type": "code",
   "execution_count": 112,
   "id": "7330dc4f",
   "metadata": {},
   "outputs": [
    {
     "name": "stdout",
     "output_type": "stream",
     "text": [
      "2\n",
      "(4, 5)\n"
     ]
    },
    {
     "data": {
      "text/plain": [
       "array([[ 11,  20,  33, 400,  23],\n",
       "       [ 21,  34,  56,  24,  34],\n",
       "       [ 11,  20,  33, 400,  23],\n",
       "       [ 21,  34,  56,  24,  34]])"
      ]
     },
     "execution_count": 112,
     "metadata": {},
     "output_type": "execute_result"
    }
   ],
   "source": [
    "arr = np.array([[11,20,33,400,23],[21,34,56,24,34],[11,20,33,400,23],[21,34,56,24,34]])\n",
    "print(arr.ndim)\n",
    "print(arr.shape)\n",
    "arr"
   ]
  },
  {
   "cell_type": "code",
   "execution_count": 115,
   "id": "7227582b-df68-48cd-9eaf-972939b24af1",
   "metadata": {},
   "outputs": [
    {
     "data": {
      "text/plain": [
       "1"
      ]
     },
     "execution_count": 115,
     "metadata": {},
     "output_type": "execute_result"
    }
   ],
   "source": [
    "np.array([[11,20,33,400,23],[21,34,56,24,34],[11,20,33,400,23],[21,34,56,24,34]]).flatten().ndim"
   ]
  },
  {
   "cell_type": "code",
   "execution_count": 116,
   "id": "b72ffcea",
   "metadata": {},
   "outputs": [
    {
     "data": {
      "text/plain": [
       "array([ 11,  20,  33, 400,  23,  21,  34,  56,  24,  34,  11,  20,  33,\n",
       "       400,  23,  21,  34,  56,  24,  34])"
      ]
     },
     "execution_count": 116,
     "metadata": {},
     "output_type": "execute_result"
    }
   ],
   "source": [
    "arr.flatten() # convert into 1D"
   ]
  },
  {
   "cell_type": "code",
   "execution_count": 117,
   "id": "6db3a49a",
   "metadata": {},
   "outputs": [
    {
     "name": "stdout",
     "output_type": "stream",
     "text": [
      "2\n",
      "(2, 4)\n"
     ]
    },
    {
     "data": {
      "text/plain": [
       "array([[ 11,  20,  33, 400],\n",
       "       [ 21,  34,  56,  30]])"
      ]
     },
     "execution_count": 117,
     "metadata": {},
     "output_type": "execute_result"
    }
   ],
   "source": [
    "arr = np.array([[11,20,33,400],\n",
    "                [21,34,56,30]])\n",
    "print(arr.ndim)\n",
    "print(arr.shape)\n",
    "arr"
   ]
  },
  {
   "cell_type": "code",
   "execution_count": 118,
   "id": "a997ac94",
   "metadata": {},
   "outputs": [
    {
     "data": {
      "text/plain": [
       "8"
      ]
     },
     "execution_count": 118,
     "metadata": {},
     "output_type": "execute_result"
    }
   ],
   "source": [
    "arr.size"
   ]
  },
  {
   "cell_type": "code",
   "execution_count": null,
   "id": "1469a835",
   "metadata": {},
   "outputs": [],
   "source": [
    "# import pandas as pd\n",
    "# pd.DataFrame(arr)"
   ]
  },
  {
   "cell_type": "markdown",
   "id": "2fe00c0d",
   "metadata": {},
   "source": [
    "### converting 1D array to 2D array"
   ]
  },
  {
   "cell_type": "code",
   "execution_count": 123,
   "id": "9c69bcf2-16b1-4d3e-bea0-b8d7cf2e2cf8",
   "metadata": {},
   "outputs": [],
   "source": [
    "# print(dir(l))"
   ]
  },
  {
   "cell_type": "code",
   "execution_count": 125,
   "id": "bdc6a928",
   "metadata": {},
   "outputs": [
    {
     "data": {
      "text/plain": [
       "array([10, 11, 12, 13, 14, 15, 16, 17, 18, 19])"
      ]
     },
     "execution_count": 125,
     "metadata": {},
     "output_type": "execute_result"
    }
   ],
   "source": [
    "l = []\n",
    "for i in range(10,20):\n",
    "    l.append(i)\n",
    "np.array(l)\n"
   ]
  },
  {
   "cell_type": "code",
   "execution_count": 135,
   "id": "6bc6fa87",
   "metadata": {},
   "outputs": [
    {
     "data": {
      "text/plain": [
       "array([10, 11, 12, 13, 14, 15, 16, 17, 18, 19, 20, 21, 22, 23, 24, 25])"
      ]
     },
     "execution_count": 135,
     "metadata": {},
     "output_type": "execute_result"
    }
   ],
   "source": [
    "arr = np.arange(10,26) # range\n",
    "\n",
    "arr"
   ]
  },
  {
   "cell_type": "code",
   "execution_count": 138,
   "id": "3588bedf",
   "metadata": {
    "collapsed": true,
    "jupyter": {
     "outputs_hidden": true
    }
   },
   "outputs": [
    {
     "data": {
      "text/plain": [
       "array([[10],\n",
       "       [11],\n",
       "       [12],\n",
       "       [13],\n",
       "       [14],\n",
       "       [15],\n",
       "       [16],\n",
       "       [17],\n",
       "       [18],\n",
       "       [19],\n",
       "       [20],\n",
       "       [21],\n",
       "       [22],\n",
       "       [23],\n",
       "       [24],\n",
       "       [25]])"
      ]
     },
     "execution_count": 138,
     "metadata": {},
     "output_type": "execute_result"
    }
   ],
   "source": [
    "arr.reshape(16,1)"
   ]
  },
  {
   "cell_type": "code",
   "execution_count": 131,
   "id": "223dd35f-4523-464c-9739-981ef300feb7",
   "metadata": {
    "collapsed": true,
    "jupyter": {
     "outputs_hidden": true
    }
   },
   "outputs": [
    {
     "data": {
      "text/plain": [
       "array([[10, 11, 12, 13, 14],\n",
       "       [15, 16, 17, 18, 19]])"
      ]
     },
     "execution_count": 131,
     "metadata": {},
     "output_type": "execute_result"
    }
   ],
   "source": [
    "arr.reshape(2,5)"
   ]
  },
  {
   "cell_type": "code",
   "execution_count": 133,
   "id": "2cc8f0ab-0330-499b-bdcf-5c5e1ebcf84a",
   "metadata": {},
   "outputs": [
    {
     "data": {
      "text/plain": [
       "array([[10, 11, 12, 13, 14, 15, 16, 17, 18, 19]])"
      ]
     },
     "execution_count": 133,
     "metadata": {},
     "output_type": "execute_result"
    }
   ],
   "source": [
    "arr.reshape(1,10)"
   ]
  },
  {
   "cell_type": "code",
   "execution_count": null,
   "id": "61f7cb4d",
   "metadata": {},
   "outputs": [],
   "source": [
    "l = ['2','3','4','5','6']\n",
    "np.array(l).reshape(1,5)"
   ]
  },
  {
   "cell_type": "code",
   "execution_count": null,
   "id": "88d96ae8",
   "metadata": {},
   "outputs": [],
   "source": []
  },
  {
   "cell_type": "code",
   "execution_count": null,
   "id": "e393bc78",
   "metadata": {},
   "outputs": [],
   "source": [
    "# arr.reshape(5,2)"
   ]
  },
  {
   "cell_type": "markdown",
   "id": "e415b9d7",
   "metadata": {},
   "source": [
    "### array slicing"
   ]
  },
  {
   "cell_type": "code",
   "execution_count": null,
   "id": "95753344",
   "metadata": {},
   "outputs": [],
   "source": [
    "arr = np.arange(10 ,20)\n",
    "arr.ndim\n",
    "arr"
   ]
  },
  {
   "cell_type": "code",
   "execution_count": null,
   "id": "d38da904",
   "metadata": {},
   "outputs": [],
   "source": [
    "arr[2]\n"
   ]
  },
  {
   "cell_type": "code",
   "execution_count": null,
   "id": "065905b0",
   "metadata": {},
   "outputs": [],
   "source": [
    "arr[-1]"
   ]
  },
  {
   "cell_type": "code",
   "execution_count": null,
   "id": "66874810",
   "metadata": {},
   "outputs": [],
   "source": [
    "arr[5:]"
   ]
  },
  {
   "cell_type": "code",
   "execution_count": null,
   "id": "e82cd82a",
   "metadata": {},
   "outputs": [],
   "source": [
    "arr[3:7]"
   ]
  },
  {
   "cell_type": "code",
   "execution_count": null,
   "id": "ac0d0828",
   "metadata": {},
   "outputs": [],
   "source": [
    "arr[-6:-2]"
   ]
  },
  {
   "cell_type": "code",
   "execution_count": null,
   "id": "12272a74",
   "metadata": {},
   "outputs": [],
   "source": []
  }
 ],
 "metadata": {
  "kernelspec": {
   "display_name": "Python 3 (ipykernel)",
   "language": "python",
   "name": "python3"
  },
  "language_info": {
   "codemirror_mode": {
    "name": "ipython",
    "version": 3
   },
   "file_extension": ".py",
   "mimetype": "text/x-python",
   "name": "python",
   "nbconvert_exporter": "python",
   "pygments_lexer": "ipython3",
   "version": "3.12.4"
  }
 },
 "nbformat": 4,
 "nbformat_minor": 5
}
